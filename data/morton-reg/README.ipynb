{
 "cells": [
  {
   "cell_type": "markdown",
   "metadata": {},
   "source": [
    "# Morton Index - Parcellation IDX maps\n",
    "\n",
    "The data in this folder contains information pertaining to the respective parcellation region a particular morton index is in.\n",
    "\n",
    "## File naming\n",
    "\n",
    "The files are named as follows:\n",
    "\n",
    "$\\textrm{<atlas>.csv}$\n",
    "\n",
    "+ atlas: the name of the parcellation being compared. Assume this parcellation has $N_1$ possible vertices.\n",
    "\n",
    "## File Structure\n",
    "\n",
    "The files contain a csv, with commas separating columns and linebreaks separating rows. Assuming this is interpretted as a matrix, the structure would be as follows:\n",
    "\n",
    "\\begin{align*}\n",
    "    \\begin{bmatrix}\n",
    "        a & b \\\\\n",
    "    \\end{bmatrix}\n",
    "\\end{align*}\n",
    "\n",
    "Here, $N$ refers to the total number of voxels in the parcellation. That is, many morton indices may not have entries. This is because the vertices indicated by a parcellation may not necessarily be the entire brain (and hence, may not include many of the morton indices are are part of the voxelwise graphs).\n",
    "\n",
    "+ $a \\in \\mathbb{Z}^{N}$: $a_i$ gives the morton index the $i^{th}$ row refers to.\n",
    "+ $b \\in \\mathbb{Z}^N$: $b_i$ gives the vertex that the $a_i$ morton index is within."
   ]
  },
  {
   "cell_type": "code",
   "execution_count": null,
   "metadata": {
    "collapsed": true
   },
   "outputs": [],
   "source": []
  }
 ],
 "metadata": {
  "kernelspec": {
   "display_name": "Python 2",
   "language": "python",
   "name": "python2"
  },
  "language_info": {
   "codemirror_mode": {
    "name": "ipython",
    "version": 2
   },
   "file_extension": ".py",
   "mimetype": "text/x-python",
   "name": "python",
   "nbconvert_exporter": "python",
   "pygments_lexer": "ipython2",
   "version": "2.7.12"
  }
 },
 "nbformat": 4,
 "nbformat_minor": 2
}
