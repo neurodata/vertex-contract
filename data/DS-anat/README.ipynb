{
 "cells": [
  {
   "cell_type": "markdown",
   "metadata": {},
   "source": [
    "# DS/Anatomical Percent Overlaps\n",
    "\n",
    "The data in this folder contains information pertaining to the percent overlap between the regions in each DS parcellation with the regions of each anatomical parcellation.\n",
    "\n",
    "## File naming\n",
    "\n",
    "The files are named as follows:\n",
    "\n",
    "$\\textrm{<DSatlas>_<anatatlas>.txt}$\n",
    "\n",
    "+ DSatlas: the name of the DS parcellation being compared. Assume this parcellation has $N_1$ possible vertices.\n",
    "+ anatatlas: the name of the anatomical parcellation being compared. Assume this parcellation has $N_2$ possible vertices.\n",
    "\n",
    "## File Structure\n",
    "\n",
    "The files contain a csv, with commas separating columns and linebreaks separating rows. Assuming this is interpretted as a matrix, the structure would be as follows:\n",
    "\n",
    "\\begin{align*}\n",
    "    \\begin{bmatrix}\n",
    "        \"dsreg\" & a \\\\ b & C\n",
    "    \\end{bmatrix}\n",
    "\\end{align*}\n",
    "\n",
    "+ \"dsreg\" is just the [1,1] entry and is just a placeholder.\n",
    "+ $a \\in \\mathbb{Z}^{N_1}$: $a_i$ gives the DS parcellation region label that the $i^{th}$ row of $C$ corresponds to.\n",
    "+ $b \\in \\mathbb{Z}^{N_2}$: $b_i$ gives the anatomical parcellation region label that the $i^{th}$ column of $C$ corresponds to.\n",
    "+ $C \\in \\mathbb{R}^{N_1 \\times N_2}$: $C_{ij}$ gives the overlap between the DS parcellation $i$ and anatomical parcellation $j$, which is just the fraction of voxels in DS parcellation $i$ that are contained within anatomical parcellation $j$. Note that $\\sum_{j=1}^{N_2} C_{ij} = 1$."
   ]
  },
  {
   "cell_type": "code",
   "execution_count": null,
   "metadata": {
    "collapsed": true
   },
   "outputs": [],
   "source": []
  }
 ],
 "metadata": {
  "kernelspec": {
   "display_name": "Python 2",
   "language": "python",
   "name": "python2"
  },
  "language_info": {
   "codemirror_mode": {
    "name": "ipython",
    "version": 2
   },
   "file_extension": ".py",
   "mimetype": "text/x-python",
   "name": "python",
   "nbconvert_exporter": "python",
   "pygments_lexer": "ipython2",
   "version": "2.7.12"
  }
 },
 "nbformat": 4,
 "nbformat_minor": 2
}
