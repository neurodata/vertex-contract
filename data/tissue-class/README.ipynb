{
 "cells": [
  {
   "cell_type": "markdown",
   "metadata": {},
   "source": [
    "# Morton Index - Parcellation IDX maps\n",
    "\n",
    "The data in this folder contains information pertaining to the respective tissue class a particular morton index is in.\n",
    "\n",
    "## File naming\n",
    "\n",
    "The files are named as follows:\n",
    "\n",
    "$\\textrm{class.csv}$\n",
    "\n",
    "## File Structure\n",
    "\n",
    "The files contain a csv, with commas separating columns and linebreaks separating rows. Assuming this is interpretted as a matrix, the structure would be as follows:\n",
    "\n",
    "\\begin{align*}\n",
    "    \\begin{bmatrix}\n",
    "        a & b \\\\\n",
    "    \\end{bmatrix}\n",
    "\\end{align*}\n",
    "\n",
    "Here, $N$ refers to the total number of voxels in the brain. Any morton indices that do not have corresponding entries are noise (they occur outside of the brain). This can occur because the registration procedure is not necessarily perfect; the diffusion scans are interpreted as skull-on, so some fibers may slightly break the brain barrier due to minor failures of the processing pipeline.\n",
    "\n",
    "+ $a \\in \\mathbb{Z}^{N}$: $a_i$ gives the morton index the $i^{th}$ row refers to.\n",
    "+ $b \\in \\{1, 2, 3\\}^N$: $b_i$ gives the tissue class that the $a_i$ morton index is within. Class $1$ is cerebro-spinal fluid. Class $2$ is gray-matter. Class $3$ is white-matter."
   ]
  },
  {
   "cell_type": "code",
   "execution_count": null,
   "metadata": {
    "collapsed": true
   },
   "outputs": [],
   "source": []
  },
  {
   "cell_type": "code",
   "execution_count": null,
   "metadata": {
    "collapsed": true
   },
   "outputs": [],
   "source": []
  }
 ],
 "metadata": {
  "kernelspec": {
   "display_name": "Python 2",
   "language": "python",
   "name": "python2"
  },
  "language_info": {
   "codemirror_mode": {
    "name": "ipython",
    "version": 2
   },
   "file_extension": ".py",
   "mimetype": "text/x-python",
   "name": "python",
   "nbconvert_exporter": "python",
   "pygments_lexer": "ipython2",
   "version": "2.7.12"
  }
 },
 "nbformat": 4,
 "nbformat_minor": 2
}
