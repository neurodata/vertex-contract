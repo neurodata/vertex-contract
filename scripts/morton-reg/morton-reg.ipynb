{
 "cells": [
  {
   "cell_type": "code",
   "execution_count": 17,
   "metadata": {},
   "outputs": [],
   "source": [
    "import os\n",
    "import nibabel as nb\n",
    "import numpy as np\n",
    "from ndmg.graph.zindex import XYZMorton\n",
    "\n",
    "\n",
    "atlases = ['AAL', 'DS00071', 'DS00195', 'DS00583', 'DS03231', 'HarvardOxford', 'Talairach',\n",
    "           'DS00096', 'DS00278', 'DS00833', 'DS06481', 'JHU', 'CPAC200', 'DS00108', 'DS00350',\n",
    "           'DS01216', 'DS16784', 'slab1068', 'desikan', 'DS00140', 'DS00446', 'DS01876', 'DS72784',\n",
    "           'slab907']\n",
    "basepath = '/home/eric/atlases/labels'\n",
    "outbase = '../../data/morton-reg/'"
   ]
  },
  {
   "cell_type": "code",
   "execution_count": 18,
   "metadata": {},
   "outputs": [],
   "source": [
    "for atlas in atlases:\n",
    "    at_dat = nb.load(os.path.join(basepath, atlas + '.nii.gz')).get_data()\n",
    "    dims = at_dat.shape\n",
    "    region = {}\n",
    "    for x in range(0, dims[0]):\n",
    "        for y in range(0, dims[1]):\n",
    "            for z in range(0, dims[2]):\n",
    "                if at_dat[x, y, z] > 0:\n",
    "                    region[XYZMorton((int(x), int(y), int(z)))] = at_dat[x, y, z]\n",
    "    outf = os.path.join(outbase, atlas + '.csv')\n",
    "    with open(outf, 'w')  as f:\n",
    "        for key, val in region.iteritems():\n",
    "            f.write('{},{}\\n'.format(key, val))\n",
    "        f.close()"
   ]
  },
  {
   "cell_type": "code",
   "execution_count": null,
   "metadata": {},
   "outputs": [],
   "source": []
  }
 ],
 "metadata": {
  "kernelspec": {
   "display_name": "Python 2",
   "language": "python",
   "name": "python2"
  },
  "language_info": {
   "codemirror_mode": {
    "name": "ipython",
    "version": 2
   },
   "file_extension": ".py",
   "mimetype": "text/x-python",
   "name": "python",
   "nbconvert_exporter": "python",
   "pygments_lexer": "ipython2",
   "version": "2.7.12"
  }
 },
 "nbformat": 4,
 "nbformat_minor": 2
}
