{
 "cells": [
  {
   "cell_type": "code",
   "execution_count": 1,
   "metadata": {
    "collapsed": true
   },
   "outputs": [],
   "source": [
    "import os\n",
    "import nibabel as nb\n",
    "import numpy as np\n",
    "from scipy.sparse import lil_matrix\n",
    "\n",
    "DS_atlases = ['DS00071', 'DS00195', 'DS00583', 'DS03231',\n",
    "           'DS00096', 'DS00278', 'DS00833', 'DS06481', 'DS00108', 'DS00350',\n",
    "           'DS01216', 'DS16784', 'DS00140', 'DS00446', 'DS01876', 'DS72784']\n",
    "anat_atlases = ['AAL', 'slab1068', 'HarvardOxford', 'Talairach', 'desikan', 'JHU', 'CPAC200', 'slab907']\n",
    "\n",
    "basepath = '/home/eric/atlases/labels'\n",
    "outbase = '../../data/DS-anat/'"
   ]
  },
  {
   "cell_type": "code",
   "execution_count": null,
   "metadata": {
    "collapsed": true
   },
   "outputs": [],
   "source": [
    "for ds in DS_atlases:\n",
    "    for anat in anat_atlases:\n",
    "        ds_dat = nb.load(os.path.join(basepath, ds + '.nii.gz')).get_data()\n",
    "        anat_dat = nb.load(os.path.join(basepath, anat + '.nii.gz')).get_data()\n",
    "        dsregs = np.unique(ds_dat)\n",
    "        dsregs = dsregs[dsregs > 0]\n",
    "        anatregs = np.unique(anat_dat)\n",
    "        \n",
    "        overlapdat = lil_matrix((dsregs.shape[0], anatregs.shape[0]), dtype=np.float32)\n",
    "        for didx, dsreg in enumerate(dsregs):\n",
    "            dseq = (ds_dat == dsreg)\n",
    "            N = dseq.sum()\n",
    "            poss_regs = np.unique(anat_dat[dseq])\n",
    "            for aidx, anatreg in enumerate(anatregs):\n",
    "                if (anatreg in poss_regs):\n",
    "                    # percent overlap is dseq and'd with the anatomical region voxelspace, summed and normalized\n",
    "                    pover = np.logical_and(dseq, anat_dat == anatreg).sum()/float(N)\n",
    "                    overlapdat[didx, aidx] = pover\n",
    "                \n",
    "        outf = os.path.join(outbase, \"{}_{}.csv\".format(ds, anat))\n",
    "        with open(outf, 'w')  as f:\n",
    "            anatstr = [\"%d\" % x for x in anatregs]\n",
    "            f.write(\"dsreg,\" + \",\".join(anatstr) + \"\\n\")\n",
    "            for idx, dsreg in enumerate(dsregs):\n",
    "                datstr = [\"%.4f\" % x for x in overlapdat[idx,].toarray()[0,]]\n",
    "                f.write(str(dsreg) + \",\" + \",\".join(datstr) + \"\\n\")\n",
    "            f.close()"
   ]
  },
  {
   "cell_type": "markdown",
   "metadata": {},
   "source": []
  },
  {
   "cell_type": "code",
   "execution_count": null,
   "metadata": {
    "collapsed": true,
    "scrolled": true
   },
   "outputs": [],
   "source": []
  },
  {
   "cell_type": "code",
   "execution_count": null,
   "metadata": {
    "collapsed": true
   },
   "outputs": [],
   "source": []
  },
  {
   "cell_type": "code",
   "execution_count": null,
   "metadata": {
    "collapsed": true
   },
   "outputs": [],
   "source": []
  },
  {
   "cell_type": "code",
   "execution_count": null,
   "metadata": {
    "collapsed": true
   },
   "outputs": [],
   "source": []
  }
 ],
 "metadata": {
  "kernelspec": {
   "display_name": "Python 2",
   "language": "python",
   "name": "python2"
  },
  "language_info": {
   "codemirror_mode": {
    "name": "ipython",
    "version": 2
   },
   "file_extension": ".py",
   "mimetype": "text/x-python",
   "name": "python",
   "nbconvert_exporter": "python",
   "pygments_lexer": "ipython2",
   "version": "2.7.12"
  }
 },
 "nbformat": 4,
 "nbformat_minor": 2
}
