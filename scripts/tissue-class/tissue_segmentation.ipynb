{
 "cells": [
  {
   "cell_type": "code",
   "execution_count": 2,
   "metadata": {},
   "outputs": [],
   "source": [
    "from ndmg.register import register as ndr\n",
    "atlas = '/home/eric/atlases/atlas/MNI152_T1_1mm.nii.gz'\n",
    "t1w = '/data/raw/sub-0025864/ses-1/anat/sub-0025864_ses-1_T1w.nii.gz'\n",
    "xfm = 't1w2atlas.xfm'\n",
    "t1w_realigned = 'sub-0025864_ses-1_T1w_space-MNI152.nii.gz'"
   ]
  },
  {
   "cell_type": "code",
   "execution_count": 4,
   "metadata": {},
   "outputs": [
    {
     "name": "stdout",
     "output_type": "stream",
     "text": [
      "Executing: flirt -in /data/raw/sub-0025864/ses-1/anat/sub-0025864_ses-1_T1w.nii.gz -ref /home/eric/atlases/atlas/MNI152_T1_1mm.nii.gz -omat t1w2atlas.xfm -dof 12 -bins 256 -cost mutualinfo -searchrx -180 180 -searchry -180 180 -searchrz -180 180\n",
      "Executing: flirt -in /data/raw/sub-0025864/ses-1/anat/sub-0025864_ses-1_T1w.nii.gz -ref /home/eric/atlases/atlas/MNI152_T1_1mm.nii.gz -out sub-0025864_ses-1_T1w_space-MNI152.nii.gz -init t1w2atlas.xfm -interp trilinear -applyxfm\n"
     ]
    }
   ],
   "source": [
    "ndr.register().align(t1w, atlas, xfm)\n",
    "ndr.register().applyxfm(t1w, atlas, xfm, t1w_realigned)"
   ]
  },
  {
   "cell_type": "code",
   "execution_count": 8,
   "metadata": {},
   "outputs": [],
   "source": [
    "from ndmg.utils import nuis_utils as ndn\n",
    "from ndmg.utils import utils as ndu"
   ]
  },
  {
   "cell_type": "code",
   "execution_count": 9,
   "metadata": {},
   "outputs": [
    {
     "name": "stdout",
     "output_type": "stream",
     "text": [
      "Executing: bet sub-0025864_ses-1_T1w_space-MNI152.nii.gz sub-0025864_ses-1_T1w_space-MNI152.nii.gz -f  0.3\n",
      "Segmenting Anatomical Image into WM, GM, and CSF...\n",
      "Executing: fast -t 1 -P -n 3 -o sub-0025864_ses-1_seg sub-0025864_ses-1_T1w_space-MNI152.nii.gz\n"
     ]
    },
    {
     "data": {
      "text/plain": [
       "{'csf_prob': 'sub-0025864_ses-1_seg_pve_0.nii.gz',\n",
       " 'gm_prob': 'sub-0025864_ses-1_seg_pve_1.nii.gz',\n",
       " 'wm_prob': 'sub-0025864_ses-1_seg_pve_2.nii.gz'}"
      ]
     },
     "execution_count": 9,
     "metadata": {},
     "output_type": "execute_result"
    }
   ],
   "source": [
    "basename = 'sub-0025864_ses-1_seg'\n",
    "ndu.extract_brain(t1w_realigned, t1w_realigned, '-f  0.3')\n",
    "ndn.segment_t1w(t1w_realigned, basename, '-P')"
   ]
  },
  {
   "cell_type": "code",
   "execution_count": 10,
   "metadata": {},
   "outputs": [],
   "source": [
    "import nibabel as nb\n",
    "seg_t1w = '{}_{}.nii.gz'.format(basename,  'seg')\n",
    "t1w_im = nb.load(seg_t1w)"
   ]
  },
  {
   "cell_type": "code",
   "execution_count": 14,
   "metadata": {},
   "outputs": [],
   "source": [
    "t1w_segdat = t1w_im.get_data()\n",
    "from ndmg.graph.zindex import XYZMorton"
   ]
  },
  {
   "cell_type": "code",
   "execution_count": 20,
   "metadata": {},
   "outputs": [],
   "source": [
    "dims = t1w_segdat.shape\n",
    "tclass = {}\n",
    "for x in range(0, dims[0]):\n",
    "    for y in range(0, dims[1]):\n",
    "        for z in range(0, dims[2]):\n",
    "            if t1w_segdat[x, y, z] > 0:\n",
    "                tclass[XYZMorton((int(x), int(y), int(z)))] = t1w_segdat[x, y, z]"
   ]
  },
  {
   "cell_type": "code",
   "execution_count": 21,
   "metadata": {},
   "outputs": [],
   "source": [
    "outf = '../../data/class/class.txt'\n",
    "with open(outf, 'w')  as f:\n",
    "    for key, val in tclass.iteritems():\n",
    "        f.write('{} {}\\n'.format(key, val))"
   ]
  },
  {
   "cell_type": "code",
   "execution_count": null,
   "metadata": {},
   "outputs": [],
   "source": []
  }
 ],
 "metadata": {
  "kernelspec": {
   "display_name": "Python 2",
   "language": "python",
   "name": "python2"
  },
  "language_info": {
   "codemirror_mode": {
    "name": "ipython",
    "version": 2
   },
   "file_extension": ".py",
   "mimetype": "text/x-python",
   "name": "python",
   "nbconvert_exporter": "python",
   "pygments_lexer": "ipython2",
   "version": "2.7.12"
  }
 },
 "nbformat": 4,
 "nbformat_minor": 2
}
